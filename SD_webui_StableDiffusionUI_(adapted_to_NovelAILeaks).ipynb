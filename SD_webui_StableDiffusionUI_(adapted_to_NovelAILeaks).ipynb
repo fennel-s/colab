{
  "nbformat": 4,
  "nbformat_minor": 0,
  "metadata": {
    "colab": {
      "provenance": [],
      "toc_visible": true,
      "include_colab_link": true
    },
    "kernelspec": {
      "name": "python3",
      "display_name": "Python 3"
    },
    "language_info": {
      "name": "python"
    },
    "accelerator": "GPU",
    "gpuClass": "standard"
  },
  "cells": [
    {
      "cell_type": "markdown",
      "metadata": {
        "id": "view-in-github",
        "colab_type": "text"
      },
      "source": [
        "<a href=\"https://colab.research.google.com/github/fennel-s/colab/blob/main/SD_webui_StableDiffusionUI_(adapted_to_NovelAILeaks).ipynb\" target=\"_parent\"><img src=\"https://colab.research.google.com/assets/colab-badge.svg\" alt=\"Open In Colab\"/></a>"
      ]
    },
    {
      "cell_type": "markdown",
      "source": [
        "Credit: https://t.me/StableDiffusion_CN https://t.me/exlolicon\n",
        "\n",
        "FAQ: https://t.me/StableDiffusion_CN/13436"
      ],
      "metadata": {
        "id": "4uISfvm60M2N"
      }
    },
    {
      "cell_type": "markdown",
      "source": [
        "Check GPU"
      ],
      "metadata": {
        "id": "VBDPqhYnyBL1"
      }
    },
    {
      "cell_type": "code",
      "source": [
        "!nvidia-smi"
      ],
      "metadata": {
        "id": "woQCdVO8x-Kt",
        "colab": {
          "base_uri": "https://localhost:8080/"
        },
        "outputId": "26370755-302c-42bd-e877-690623d2282e"
      },
      "execution_count": null,
      "outputs": [
        {
          "output_type": "stream",
          "name": "stdout",
          "text": [
            "Fri Nov 18 03:07:02 2022       \n",
            "+-----------------------------------------------------------------------------+\n",
            "| NVIDIA-SMI 460.32.03    Driver Version: 460.32.03    CUDA Version: 11.2     |\n",
            "|-------------------------------+----------------------+----------------------+\n",
            "| GPU  Name        Persistence-M| Bus-Id        Disp.A | Volatile Uncorr. ECC |\n",
            "| Fan  Temp  Perf  Pwr:Usage/Cap|         Memory-Usage | GPU-Util  Compute M. |\n",
            "|                               |                      |               MIG M. |\n",
            "|===============================+======================+======================|\n",
            "|   0  Tesla T4            Off  | 00000000:00:04.0 Off |                    0 |\n",
            "| N/A   42C    P8     9W /  70W |      0MiB / 15109MiB |      0%      Default |\n",
            "|                               |                      |                  N/A |\n",
            "+-------------------------------+----------------------+----------------------+\n",
            "                                                                               \n",
            "+-----------------------------------------------------------------------------+\n",
            "| Processes:                                                                  |\n",
            "|  GPU   GI   CI        PID   Type   Process name                  GPU Memory |\n",
            "|        ID   ID                                                   Usage      |\n",
            "|=============================================================================|\n",
            "|  No running processes found                                                 |\n",
            "+-----------------------------------------------------------------------------+\n"
          ]
        }
      ]
    },
    {
      "cell_type": "markdown",
      "source": [
        "Clone webui repository"
      ],
      "metadata": {
        "id": "OHCtG9MT0jLq"
      }
    },
    {
      "cell_type": "code",
      "source": [
        "%cd /content\n",
        "!git clone https://github.com/AUTOMATIC1111/stable-diffusion-webui\n",
        "\n",
        "%cd stable-diffusion-webui\n",
        "!git pull"
      ],
      "metadata": {
        "id": "sBbcB4vwj_jm",
        "colab": {
          "base_uri": "https://localhost:8080/"
        },
        "outputId": "26515087-ecdb-4896-a4cf-a7762732f9cd"
      },
      "execution_count": null,
      "outputs": [
        {
          "output_type": "stream",
          "name": "stdout",
          "text": [
            "/content\n",
            "Cloning into 'stable-diffusion-webui'...\n",
            "remote: Enumerating objects: 10791, done.\u001b[K\n",
            "remote: Total 10791 (delta 0), reused 0 (delta 0), pack-reused 10791\u001b[K\n",
            "Receiving objects: 100% (10791/10791), 23.62 MiB | 43.11 MiB/s, done.\n",
            "Resolving deltas: 100% (7544/7544), done.\n",
            "/content/stable-diffusion-webui\n",
            "Already up to date.\n"
          ]
        }
      ]
    },
    {
      "cell_type": "markdown",
      "source": [
        "Download the model from NovelAILeaks."
      ],
      "metadata": {
        "id": "F0EINk5M0s-w"
      }
    },
    {
      "cell_type": "code",
      "source": [
        "!mkdir -p /content/stable-diffusion-webui/models/Stable-diffusion /content/stable-diffusion-webui/models/hypernetworks\n",
        "%cd /content/stable-diffusion-webui/models/Stable-diffusion/\n",
        "!apt install -y -qq aria2\n",
        "\n",
        "# animesfw-final-pruned + 4G animefull-final-pruned\n",
        "!aria2c --summary-interval=10 -x 3 --allow-overwrite=true -Z \\\n",
        "  https://pub-2fdef7a2969f43289c42ac5ae3412fd4.r2.dev/animefull-final-pruned.ckpt \\\n",
        "  https://pub-2fdef7a2969f43289c42ac5ae3412fd4.r2.dev/animesfw-final-pruned.ckpt \n",
        "!curl -Lo /content/stable-diffusion-webui/config.yaml https://pub-2fdef7a2969f43289c42ac5ae3412fd4.r2.dev/config-pruned.yaml\n",
        "\n",
        "# disabled models\n",
        "# !aria2c --summary-interval=10 -x 3 --allow-overwrite=true -Z \\\n",
        "#   https://pub-2fdef7a2969f43289c42ac5ae3412fd4.r2.dev/animefull-latest.ckpt \\\n",
        "#   https://pub-2fdef7a2969f43289c42ac5ae3412fd4.r2.dev/animesfw-latest.ckpt \n",
        "# !curl -Lo /content/stable-diffusion-webui/config.yaml https://pub-2fdef7a2969f43289c42ac5ae3412fd4.r2.dev/config-latest.yaml\n",
        "\n",
        "# Install VAE Weights (optional)\n",
        "!curl -Lo /content/animevae.pt https://pub-2fdef7a2969f43289c42ac5ae3412fd4.r2.dev/animevae.pt\n",
        " \n",
        "# Install hypernetwork （optional)\n",
        "!curl -L https://cloudflare-ipfs.com/ipfs/bafybeiduanx2b3mcvxlwr66igcwnpfmk3nc3qgxlpwh6oq6m6pxii3f77e/_modules.tar | tar x -C /content/stable-diffusion-webui/models/hypernetworks\n",
        "\n",
        "# Install embeddings (optional)\n",
        "# !curl -L https://cloudflare-ipfs.com/ipfs/bafybeie3hdjchxs5tz4n75bos53nhcklslguxchdurc2ynrzcfv2kwyklu/embeddings.tar | tar x -C /content/stable-diffusion-webui/embeddings"
      ],
      "metadata": {
        "colab": {
          "base_uri": "https://localhost:8080/"
        },
        "id": "ZzRNMT42Gw_p",
        "outputId": "65befa00-925f-4cff-89b0-ab509b57faa1"
      },
      "execution_count": null,
      "outputs": [
        {
          "output_type": "stream",
          "name": "stdout",
          "text": [
            "/content/stable-diffusion-webui/models/Stable-diffusion\n",
            "The following package was automatically installed and is no longer required:\n",
            "  libnvidia-common-460\n",
            "Use 'apt autoremove' to remove it.\n",
            "The following additional packages will be installed:\n",
            "  libc-ares2\n",
            "The following NEW packages will be installed:\n",
            "  aria2 libc-ares2\n",
            "0 upgraded, 2 newly installed, 0 to remove and 5 not upgraded.\n",
            "Need to get 1,274 kB of archives.\n",
            "After this operation, 4,912 kB of additional disk space will be used.\n",
            "Selecting previously unselected package libc-ares2:amd64.\n",
            "(Reading database ... 123991 files and directories currently installed.)\n",
            "Preparing to unpack .../libc-ares2_1.14.0-1ubuntu0.1_amd64.deb ...\n",
            "Unpacking libc-ares2:amd64 (1.14.0-1ubuntu0.1) ...\n",
            "Selecting previously unselected package aria2.\n",
            "Preparing to unpack .../aria2_1.33.1-1_amd64.deb ...\n",
            "Unpacking aria2 (1.33.1-1) ...\n",
            "Setting up libc-ares2:amd64 (1.14.0-1ubuntu0.1) ...\n",
            "Setting up aria2 (1.33.1-1) ...\n",
            "Processing triggers for man-db (2.8.3-2ubuntu0.1) ...\n",
            "Processing triggers for libc-bin (2.27-3ubuntu1.6) ...\n",
            "\n",
            "11/18 03:07:13 [\u001b[1;32mNOTICE\u001b[0m] Downloading 2 item(s)\n",
            " *** Download Progress Summary as of Fri Nov 18 03:07:24 2022 *** \n",
            "=\n",
            "[#62f57c 777MiB/3.9GiB(19%) CN:3 DL:80MiB ETA:40s]\n",
            "FILE: /content/stable-diffusion-webui/models/Stable-diffusion/animefull-final-pruned.ckpt\n",
            "-\n",
            "[#afe357 734MiB/3.9GiB(18%) CN:3 DL:74MiB ETA:44s]\n",
            "FILE: /content/stable-diffusion-webui/models/Stable-diffusion/animesfw-final-pruned.ckpt\n",
            "-\n",
            "\n",
            " *** Download Progress Summary as of Fri Nov 18 03:07:35 2022 *** \n",
            "=\n",
            "[#62f57c 1.5GiB/3.9GiB(40%) CN:3 DL:79MiB ETA:30s]\n",
            "FILE: /content/stable-diffusion-webui/models/Stable-diffusion/animefull-final-pruned.ckpt\n",
            "-\n",
            "[#afe357 1.5GiB/3.9GiB(39%) CN:3 DL:79MiB ETA:31s]\n",
            "FILE: /content/stable-diffusion-webui/models/Stable-diffusion/animesfw-final-pruned.ckpt\n",
            "-\n",
            "\n",
            " *** Download Progress Summary as of Fri Nov 18 03:07:46 2022 *** \n",
            "=\n",
            "[#62f57c 2.4GiB/3.9GiB(61%) CN:3 DL:78MiB ETA:19s]\n",
            "FILE: /content/stable-diffusion-webui/models/Stable-diffusion/animefull-final-pruned.ckpt\n",
            "-\n",
            "[#afe357 2.3GiB/3.9GiB(59%) CN:3 DL:74MiB ETA:22s]\n",
            "FILE: /content/stable-diffusion-webui/models/Stable-diffusion/animesfw-final-pruned.ckpt\n",
            "-\n",
            "\n",
            " *** Download Progress Summary as of Fri Nov 18 03:07:57 2022 *** \n",
            "=\n",
            "[#62f57c 3.1GiB/3.9GiB(80%) CN:3 DL:70MiB ETA:11s]\n",
            "FILE: /content/stable-diffusion-webui/models/Stable-diffusion/animefull-final-pruned.ckpt\n",
            "-\n",
            "[#afe357 3.1GiB/3.9GiB(79%) CN:3 DL:73MiB ETA:11s]\n",
            "FILE: /content/stable-diffusion-webui/models/Stable-diffusion/animesfw-final-pruned.ckpt\n",
            "-\n",
            "\n",
            " *** Download Progress Summary as of Fri Nov 18 03:08:08 2022 *** \n",
            "=\n",
            "[#62f57c 3.8GiB/3.9GiB(97%) CN:3 DL:61MiB ETA:1s]\n",
            "FILE: /content/stable-diffusion-webui/models/Stable-diffusion/animefull-final-pruned.ckpt\n",
            "-\n",
            "[#afe357 3.9GiB/3.9GiB(99%) CN:2 DL:72MiB]\n",
            "FILE: /content/stable-diffusion-webui/models/Stable-diffusion/animesfw-final-pruned.ckpt\n",
            "-\n",
            "\n",
            "\u001b[0m\n",
            "11/18 03:08:09 [\u001b[1;32mNOTICE\u001b[0m] Download complete: /content/stable-diffusion-webui/models/Stable-diffusion/animesfw-final-pruned.ckpt\n",
            "\u001b[0m\n",
            "11/18 03:08:11 [\u001b[1;32mNOTICE\u001b[0m] Download complete: /content/stable-diffusion-webui/models/Stable-diffusion/animefull-final-pruned.ckpt\n",
            "\n",
            "Download Results:\n",
            "gid   |stat|avg speed  |path/URI\n",
            "======+====+===========+=======================================================\n",
            "afe357|\u001b[1;32mOK\u001b[0m  |    74MiB/s|/content/stable-diffusion-webui/models/Stable-diffusion/animesfw-final-pruned.ckpt\n",
            "62f57c|\u001b[1;32mOK\u001b[0m  |    71MiB/s|/content/stable-diffusion-webui/models/Stable-diffusion/animefull-final-pruned.ckpt\n",
            "\n",
            "Status Legend:\n",
            "(OK):download completed.\n",
            "  % Total    % Received % Xferd  Average Speed   Time    Time     Time  Current\n",
            "                                 Dload  Upload   Total   Spent    Left  Speed\n",
            "100  1873  100  1873    0     0   2256      0 --:--:-- --:--:-- --:--:--  2256\n",
            "  % Total    % Received % Xferd  Average Speed   Time    Time     Time  Current\n",
            "                                 Dload  Upload   Total   Spent    Left  Speed\n",
            "100  784M  100  784M    0     0  25.4M      0  0:00:30  0:00:30 --:--:-- 26.1M\n",
            "  % Total    % Received % Xferd  Average Speed   Time    Time     Time  Current\n",
            "                                 Dload  Upload   Total   Spent    Left  Speed\n",
            "100 1004M  100 1004M    0     0  95.7M      0  0:00:10  0:00:10 --:--:-- 86.6M\n"
          ]
        }
      ]
    },
    {
      "cell_type": "markdown",
      "source": [
        "Launch web ui. You will get a link to nnn.gradio.app, follow it.\n",
        "\n",
        "Commandline arguments are:\n",
        "  - `--share` - create online gradio.app link\n",
        "  - `--gradio-debug` - print outputs to console\n",
        "  - `--gradio-auth me:qwerty` - add authentication to gradio: username me, password qwerty"
      ],
      "metadata": {
        "id": "xt8lbdmC04ox"
      }
    },
    {
      "cell_type": "code",
      "source": [
        "%cd /content/stable-diffusion-webui\n",
        "\n",
        "# hacks to load model in colab\n",
        "!sed -i 's/map_location=\"cpu\"/map_location=\"cuda\"/g' /content/stable-diffusion-webui/modules/sd_models.py\n",
        "\n",
        "# Use novelai stable-diffusion-private (maybe slow, optional)\n",
        "# !mkdir -p repositories/stable-diffusion\n",
        "# !curl -L https://cloudflare-ipfs.com/ipfs/bafybeiauciguui6skzcwg23mjprjbuqhfzudms2gfi4rna55bygc3s6yxa/stable-diffusion-private.tar | tar x -C repositories/stable-diffusion\n",
        "# !git config --global --add safe.directory /content/stable-diffusion-webui/repositories/stable-diffusion\n",
        "# !pip3 install -U --pre triton icecream xformers\n",
        "# !sed -i 's/transformer\\.text_model/transformer/g' modules/sd_hijack.py\n",
        "# !sed -i 's/self.model.device/\"cuda\"/g' /content/stable-diffusion-webui/repositories/stable-diffusion/ldm/models/diffusion/*.py\n",
        "# !COMMANDLINE_ARGS=\"--share --gradio-debug --config config.yaml --xformers --vae-path /content/animevae.pt\" \\\n",
        "#  REQS_FILE=\"requirements.txt\" STABLE_DIFFUSION_COMMIT_HASH=\"5d95f1742ab1831d99df91c1a469b2b56a61eebf\" python launch.py\n",
        "\n",
        "# ...Or use normal stable-diffusion\n",
        "!pip install -U -qq pip\n",
        "!pip install -qq -r requirements.txt\n",
        "!pip install -qq pytorch_lightning==1.7.7\n",
        "!echo \"\" > /tmp/requirements_empty.txt\n",
        "!COMMANDLINE_ARGS=\"--share --gradio-debug --config config.yaml --vae-path /content/animevae.pt\" REQS_FILE=\"/tmp/requirements_empty.txt\" python launch.py"
      ],
      "metadata": {
        "id": "R-xAdMA5wxXd",
        "colab": {
          "base_uri": "https://localhost:8080/"
        },
        "outputId": "2c25b03d-4afe-4515-9f9d-c2a61969f36d"
      },
      "execution_count": null,
      "outputs": [
        {
          "output_type": "stream",
          "name": "stdout",
          "text": [
            "/content/stable-diffusion-webui\n",
            "\u001b[33mWARNING: Running pip as the 'root' user can result in broken permissions and conflicting behaviour with the system package manager. It is recommended to use a virtual environment instead: https://pip.pypa.io/warnings/venv\u001b[0m\u001b[33m\n",
            "\u001b[0m\u001b[33mWARNING: Running pip as the 'root' user can result in broken permissions and conflicting behaviour with the system package manager. It is recommended to use a virtual environment instead: https://pip.pypa.io/warnings/venv\u001b[0m\u001b[33m\n",
            "\u001b[0m\u001b[33mWARNING: Running pip as the 'root' user can result in broken permissions and conflicting behaviour with the system package manager. It is recommended to use a virtual environment instead: https://pip.pypa.io/warnings/venv\u001b[0m\u001b[33m\n",
            "\u001b[0mPython 3.7.15 (default, Oct 12 2022, 19:14:55) \n",
            "[GCC 7.5.0]\n",
            "Commit hash: 98947d173e3f1667eba29c904f681047dea9de90\n",
            "Installing requirements for Web UI\n",
            "Launching Web UI with arguments: --share --gradio-debug --config config.yaml --vae-path /content/animevae.pt\n",
            "LatentDiffusion: Running in eps-prediction mode\n",
            "DiffusionWrapper has 859.52 M params.\n",
            "making attention of type 'vanilla' with 512 in_channels\n",
            "Working with z of shape (1, 4, 64, 64) = 16384 dimensions.\n",
            "making attention of type 'vanilla' with 512 in_channels\n",
            "Loading weights [925997e9] from /content/stable-diffusion-webui/models/Stable-diffusion/animefull-final-pruned.ckpt\n",
            "Loading VAE weights from: /content/animevae.pt\n",
            "Applying cross attention optimization (Doggettx).\n",
            "Model loaded.\n",
            "Loaded a total of 0 textual inversion embeddings.\n",
            "Embeddings: \n",
            "Running on local URL:  http://127.0.0.1:7860\n",
            "Running on public URL: https://1f7d662f7741d28e.gradio.app\n",
            "\n",
            "This share link expires in 72 hours. For free permanent hosting and GPU upgrades (NEW!), check out Spaces: https://huggingface.co/spaces\n",
            "Applying cross attention optimization (Doggettx).\n",
            "VAE Weights loaded.\n"
          ]
        }
      ]
    },
    {
      "cell_type": "markdown",
      "source": [
        "commands for ***after*** you have gotten done with a session\n",
        "============================================================================"
      ],
      "metadata": {
        "id": "T3957x2AY7iP"
      }
    },
    {
      "cell_type": "markdown",
      "source": [
        "Zip images for downloading on local drive (click the folder icon on the left, the one below {x})"
      ],
      "metadata": {
        "id": "aCtJffM2ZE06"
      }
    },
    {
      "cell_type": "code",
      "source": [
        "!zip -r /content/stable-diffusion-webui /content/stable-diffusion-webui/outputs "
      ],
      "metadata": {
        "id": "TmRqNyiAZCHu",
        "colab": {
          "base_uri": "https://localhost:8080/"
        },
        "outputId": "9dc31424-bc15-445f-9cb3-25e2bf642218"
      },
      "execution_count": 5,
      "outputs": [
        {
          "output_type": "stream",
          "name": "stdout",
          "text": [
            "  adding: content/stable-diffusion-webui/outputs/ (stored 0%)\n",
            "  adding: content/stable-diffusion-webui/outputs/txt2img-grids/ (stored 0%)\n",
            "  adding: content/stable-diffusion-webui/outputs/txt2img-grids/grid-0000.png (deflated 0%)\n",
            "  adding: content/stable-diffusion-webui/outputs/txt2img-grids/grid-0001.png (deflated 0%)\n",
            "  adding: content/stable-diffusion-webui/outputs/txt2img-images/ (stored 0%)\n",
            "  adding: content/stable-diffusion-webui/outputs/txt2img-images/00013-647692850-girl.png (deflated 0%)\n",
            "  adding: content/stable-diffusion-webui/outputs/txt2img-images/00010-106754410-cat.png (deflated 0%)\n",
            "  adding: content/stable-diffusion-webui/outputs/txt2img-images/00005-106754405-cat.png (deflated 0%)\n",
            "  adding: content/stable-diffusion-webui/outputs/txt2img-images/00006-106754406-cat.png (deflated 0%)\n",
            "  adding: content/stable-diffusion-webui/outputs/txt2img-images/00012-647692849-girl.png (deflated 0%)\n",
            "  adding: content/stable-diffusion-webui/outputs/txt2img-images/00020-647692857-girl.png (deflated 0%)\n",
            "  adding: content/stable-diffusion-webui/outputs/txt2img-images/00001-106754401-cat.png (deflated 0%)\n",
            "  adding: content/stable-diffusion-webui/outputs/txt2img-images/00019-647692856-girl.png (deflated 0%)\n",
            "  adding: content/stable-diffusion-webui/outputs/txt2img-images/00015-647692852-girl.png (deflated 0%)\n",
            "  adding: content/stable-diffusion-webui/outputs/txt2img-images/00003-106754403-cat.png (deflated 0%)\n",
            "  adding: content/stable-diffusion-webui/outputs/txt2img-images/00002-106754402-cat.png (deflated 0%)\n",
            "  adding: content/stable-diffusion-webui/outputs/txt2img-images/00017-647692854-girl.png (deflated 0%)\n",
            "  adding: content/stable-diffusion-webui/outputs/txt2img-images/00018-647692855-girl.png (deflated 0%)\n",
            "  adding: content/stable-diffusion-webui/outputs/txt2img-images/00014-647692851-girl.png (deflated 0%)\n",
            "  adding: content/stable-diffusion-webui/outputs/txt2img-images/00004-106754404-cat.png (deflated 0%)\n",
            "  adding: content/stable-diffusion-webui/outputs/txt2img-images/00011-647692848-girl.png (deflated 0%)\n",
            "  adding: content/stable-diffusion-webui/outputs/txt2img-images/00007-106754407-cat.png (deflated 0%)\n",
            "  adding: content/stable-diffusion-webui/outputs/txt2img-images/00009-106754409-cat.png (deflated 0%)\n",
            "  adding: content/stable-diffusion-webui/outputs/txt2img-images/00000-796288987-cat.png (deflated 0%)\n",
            "  adding: content/stable-diffusion-webui/outputs/txt2img-images/00016-647692853-girl.png (deflated 79%)\n",
            "  adding: content/stable-diffusion-webui/outputs/txt2img-images/00008-106754408-cat.png (deflated 0%)\n"
          ]
        }
      ]
    },
    {
      "cell_type": "markdown",
      "source": [
        "Save images to Google Drive **Warning: this will cause google to scan your drive, so if you intend to use this and worry about that kind of stuff, probablly just set this up on a clean account that's just for this colab**"
      ],
      "metadata": {
        "id": "tcslU-S2ZNr9"
      }
    },
    {
      "cell_type": "code",
      "source": [
        "from google.colab import drive # type: ignore\n",
        "\n",
        "try:\n",
        "   drive_path = \"/content/drive\"\n",
        "   drive.mount(drive_path,force_remount=False)\n",
        "except:\n",
        "   print(\"...error mounting drive or with drive path variables\")\n",
        "\n",
        "!cp -r \"/content/stable-diffusion-webui/outputs\" \"/content/drive/MyDrive\""
      ],
      "metadata": {
        "id": "-N0lnu-TZOTW",
        "colab": {
          "base_uri": "https://localhost:8080/"
        },
        "outputId": "7f74b36d-1064-4ef3-ae66-ba597fd1fc9a"
      },
      "execution_count": 6,
      "outputs": [
        {
          "output_type": "stream",
          "name": "stdout",
          "text": [
            "...error mounting drive or with drive path variables\n",
            "cp: cannot create directory '/content/drive/MyDrive': No such file or directory\n"
          ]
        }
      ]
    }
  ]
}